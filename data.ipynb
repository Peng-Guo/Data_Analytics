{
 "cells": [
  {
   "cell_type": "code",
   "execution_count": 278,
   "id": "00186209",
   "metadata": {},
   "outputs": [
    {
     "data": {
      "text/html": [
       "<div>\n",
       "<style scoped>\n",
       "    .dataframe tbody tr th:only-of-type {\n",
       "        vertical-align: middle;\n",
       "    }\n",
       "\n",
       "    .dataframe tbody tr th {\n",
       "        vertical-align: top;\n",
       "    }\n",
       "\n",
       "    .dataframe thead th {\n",
       "        text-align: right;\n",
       "    }\n",
       "</style>\n",
       "<table border=\"1\" class=\"dataframe\">\n",
       "  <thead>\n",
       "    <tr style=\"text-align: right;\">\n",
       "      <th></th>\n",
       "      <th>strain</th>\n",
       "      <th>ASD004</th>\n",
       "      <th>ASD006</th>\n",
       "      <th>ASD008</th>\n",
       "      <th>ASD011</th>\n",
       "      <th>ASD014</th>\n",
       "      <th>ASD015</th>\n",
       "      <th>ASD021</th>\n",
       "      <th>ASD022</th>\n",
       "      <th>ASD025</th>\n",
       "      <th>...</th>\n",
       "      <th>C022</th>\n",
       "      <th>C023</th>\n",
       "      <th>C024</th>\n",
       "      <th>C025</th>\n",
       "      <th>C026</th>\n",
       "      <th>C027</th>\n",
       "      <th>C028</th>\n",
       "      <th>C029</th>\n",
       "      <th>C030</th>\n",
       "      <th>C031</th>\n",
       "    </tr>\n",
       "  </thead>\n",
       "  <tbody>\n",
       "    <tr>\n",
       "      <th>0</th>\n",
       "      <td>[Bacillus] selenitireducens</td>\n",
       "      <td>1.085461e+02</td>\n",
       "      <td>90.651558</td>\n",
       "      <td>15.037594</td>\n",
       "      <td>1.241038e+02</td>\n",
       "      <td>180.107777</td>\n",
       "      <td>1.149758e+02</td>\n",
       "      <td>2.020202e+01</td>\n",
       "      <td>328.264380</td>\n",
       "      <td>2.222222e+01</td>\n",
       "      <td>...</td>\n",
       "      <td>3.467036e+01</td>\n",
       "      <td>1.645570e+02</td>\n",
       "      <td>1.150870e+02</td>\n",
       "      <td>1.557632e+01</td>\n",
       "      <td>183.129926</td>\n",
       "      <td>1.000000e-09</td>\n",
       "      <td>2.833862e+02</td>\n",
       "      <td>390.881816</td>\n",
       "      <td>2.020938e+02</td>\n",
       "      <td>402.618758</td>\n",
       "    </tr>\n",
       "    <tr>\n",
       "      <th>1</th>\n",
       "      <td>[Brevibacterium] flavum</td>\n",
       "      <td>1.000000e-09</td>\n",
       "      <td>70.967742</td>\n",
       "      <td>38.194444</td>\n",
       "      <td>1.000000e-09</td>\n",
       "      <td>12.121212</td>\n",
       "      <td>1.000000e-09</td>\n",
       "      <td>1.000000e-09</td>\n",
       "      <td>13.698630</td>\n",
       "      <td>1.000000e-09</td>\n",
       "      <td>...</td>\n",
       "      <td>1.000000e-09</td>\n",
       "      <td>1.000000e-09</td>\n",
       "      <td>1.000000e-09</td>\n",
       "      <td>1.000000e-09</td>\n",
       "      <td>9.259259</td>\n",
       "      <td>7.001339e+02</td>\n",
       "      <td>1.000000e-09</td>\n",
       "      <td>0.000000</td>\n",
       "      <td>1.000000e-09</td>\n",
       "      <td>34.090909</td>\n",
       "    </tr>\n",
       "    <tr>\n",
       "      <th>2</th>\n",
       "      <td>[Brevibacterium] frigoritolerans</td>\n",
       "      <td>8.346972e+02</td>\n",
       "      <td>6.410256</td>\n",
       "      <td>587.195213</td>\n",
       "      <td>2.271884e+02</td>\n",
       "      <td>85.210509</td>\n",
       "      <td>1.451361e+02</td>\n",
       "      <td>5.034046e+02</td>\n",
       "      <td>472.473272</td>\n",
       "      <td>4.408915e+02</td>\n",
       "      <td>...</td>\n",
       "      <td>5.629845e+02</td>\n",
       "      <td>8.700869e+02</td>\n",
       "      <td>1.163602e+02</td>\n",
       "      <td>8.450424e+02</td>\n",
       "      <td>31.218530</td>\n",
       "      <td>7.629638e+02</td>\n",
       "      <td>9.187600e+02</td>\n",
       "      <td>40.692641</td>\n",
       "      <td>1.000000e-09</td>\n",
       "      <td>585.581843</td>\n",
       "    </tr>\n",
       "    <tr>\n",
       "      <th>3</th>\n",
       "      <td>[Clostridium] bolteae</td>\n",
       "      <td>5.627447e+05</td>\n",
       "      <td>49615.763600</td>\n",
       "      <td>589598.490700</td>\n",
       "      <td>8.923979e+05</td>\n",
       "      <td>866345.785400</td>\n",
       "      <td>4.549382e+04</td>\n",
       "      <td>8.133219e+05</td>\n",
       "      <td>71522.793980</td>\n",
       "      <td>2.268642e+05</td>\n",
       "      <td>...</td>\n",
       "      <td>1.527773e+05</td>\n",
       "      <td>1.614467e+05</td>\n",
       "      <td>2.456895e+05</td>\n",
       "      <td>2.188285e+05</td>\n",
       "      <td>254594.984100</td>\n",
       "      <td>1.594725e+05</td>\n",
       "      <td>2.106035e+05</td>\n",
       "      <td>107277.112600</td>\n",
       "      <td>3.492456e+05</td>\n",
       "      <td>137815.409500</td>\n",
       "    </tr>\n",
       "    <tr>\n",
       "      <th>4</th>\n",
       "      <td>[Clostridium] hiranonis</td>\n",
       "      <td>8.825053e+03</td>\n",
       "      <td>4897.520924</td>\n",
       "      <td>9285.140999</td>\n",
       "      <td>1.899532e+04</td>\n",
       "      <td>9028.725003</td>\n",
       "      <td>2.517011e+03</td>\n",
       "      <td>7.685742e+03</td>\n",
       "      <td>8180.666773</td>\n",
       "      <td>2.517332e+03</td>\n",
       "      <td>...</td>\n",
       "      <td>9.028302e+03</td>\n",
       "      <td>9.962222e+03</td>\n",
       "      <td>6.114105e+03</td>\n",
       "      <td>4.071491e+03</td>\n",
       "      <td>9256.611801</td>\n",
       "      <td>3.806111e+03</td>\n",
       "      <td>1.192725e+04</td>\n",
       "      <td>6642.019213</td>\n",
       "      <td>4.743075e+03</td>\n",
       "      <td>10427.178510</td>\n",
       "    </tr>\n",
       "  </tbody>\n",
       "</table>\n",
       "<p>5 rows × 75 columns</p>\n",
       "</div>"
      ],
      "text/plain": [
       "                               strain        ASD004        ASD006  \\\n",
       "0        [Bacillus] selenitireducens   1.085461e+02     90.651558   \n",
       "1            [Brevibacterium] flavum   1.000000e-09     70.967742   \n",
       "2   [Brevibacterium] frigoritolerans   8.346972e+02      6.410256   \n",
       "3              [Clostridium] bolteae   5.627447e+05  49615.763600   \n",
       "4            [Clostridium] hiranonis   8.825053e+03   4897.520924   \n",
       "\n",
       "          ASD008        ASD011         ASD014        ASD015        ASD021  \\\n",
       "0      15.037594  1.241038e+02     180.107777  1.149758e+02  2.020202e+01   \n",
       "1      38.194444  1.000000e-09      12.121212  1.000000e-09  1.000000e-09   \n",
       "2     587.195213  2.271884e+02      85.210509  1.451361e+02  5.034046e+02   \n",
       "3  589598.490700  8.923979e+05  866345.785400  4.549382e+04  8.133219e+05   \n",
       "4    9285.140999  1.899532e+04    9028.725003  2.517011e+03  7.685742e+03   \n",
       "\n",
       "         ASD022        ASD025  ...          C022          C023          C024  \\\n",
       "0    328.264380  2.222222e+01  ...  3.467036e+01  1.645570e+02  1.150870e+02   \n",
       "1     13.698630  1.000000e-09  ...  1.000000e-09  1.000000e-09  1.000000e-09   \n",
       "2    472.473272  4.408915e+02  ...  5.629845e+02  8.700869e+02  1.163602e+02   \n",
       "3  71522.793980  2.268642e+05  ...  1.527773e+05  1.614467e+05  2.456895e+05   \n",
       "4   8180.666773  2.517332e+03  ...  9.028302e+03  9.962222e+03  6.114105e+03   \n",
       "\n",
       "           C025           C026          C027          C028           C029  \\\n",
       "0  1.557632e+01     183.129926  1.000000e-09  2.833862e+02     390.881816   \n",
       "1  1.000000e-09       9.259259  7.001339e+02  1.000000e-09       0.000000   \n",
       "2  8.450424e+02      31.218530  7.629638e+02  9.187600e+02      40.692641   \n",
       "3  2.188285e+05  254594.984100  1.594725e+05  2.106035e+05  107277.112600   \n",
       "4  4.071491e+03    9256.611801  3.806111e+03  1.192725e+04    6642.019213   \n",
       "\n",
       "           C030           C031  \n",
       "0  2.020938e+02     402.618758  \n",
       "1  1.000000e-09      34.090909  \n",
       "2  1.000000e-09     585.581843  \n",
       "3  3.492456e+05  137815.409500  \n",
       "4  4.743075e+03   10427.178510  \n",
       "\n",
       "[5 rows x 75 columns]"
      ]
     },
     "execution_count": 278,
     "metadata": {},
     "output_type": "execute_result"
    }
   ],
   "source": [
    "import numpy as np\n",
    "import pandas as pd\n",
    "import seaborn as sns\n",
    "import matplotlib.pyplot as plt\n",
    "from scipy import stats\n",
    "from bioinfokit import visuz\n",
    "from sklearn import datasets\n",
    "from sklearn.preprocessing import Normalizer\n",
    "\n",
    "data = pd.read_csv('./input/bac_strain.csv', sep=',',encoding ='utf-8-sig')\n",
    "data = data.fillna(10e-10)\n",
    "data.head()"
   ]
  },
  {
   "cell_type": "code",
   "execution_count": 279,
   "id": "ad9f4a10",
   "metadata": {},
   "outputs": [],
   "source": [
    "# 绘制火山图\n",
    "ASD_cols = data.filter(regex='ASD',axis=1)\n",
    "C_cols = data.filter(regex='C',axis=1)\n",
    "ASD_means = []\n",
    "C_means = []\n",
    "ps = []\n",
    "\n",
    "for i in range(len(ASD_cols)):\n",
    "    ASD_mean = np.mean(ASD_cols.loc[i,:])\n",
    "    ASD_means.append(ASD_mean)\n",
    "    C_mean = np.mean(C_cols.loc[i,:])\n",
    "    C_means.append(C_mean)\n",
    "    rep = stats.ranksums(ASD_cols.loc[i,:],C_cols.loc[i,:])\n",
    "    p = rep.pvalue\n",
    "    ps.append(p)\n",
    "    \n",
    "sns.set_style('white')\n",
    "strain = data['strain']\n",
    "df = pd.DataFrame({'strain':strain,'ASD_means':ASD_means,'C_means':C_means,'p-value':ps})\n",
    "df['log2FC'] = np.log2(df['ASD_means']/df['C_means'])\n",
    "visuz.GeneExpression.volcano(df=df, lfc='log2FC', pv='p-value', \n",
    "                             show = False, lfc_thr=(1, 1), pv_thr=(0.05, 0.05), xlm = (-10,10,1), r=800,\n",
    "                             dim=(12,12), plotlegend = True, legendlabels=['Autism up', 'Not significant', 'Autism down']\n",
    "                            )"
   ]
  },
  {
   "cell_type": "code",
   "execution_count": 280,
   "id": "b9829a67",
   "metadata": {},
   "outputs": [],
   "source": [
    "from sklearn.preprocessing import Normalizer\n",
    "data_norm=data.set_index('strain',drop=True)\n",
    "data_norm = data_norm.T\n",
    "X = Normalizer().fit_transform(data_norm)\n",
    "labels = [x[:-3] for x in data_norm.index]"
   ]
  },
  {
   "cell_type": "code",
   "execution_count": 281,
   "id": "0cb594bc",
   "metadata": {},
   "outputs": [
    {
     "name": "stdout",
     "output_type": "stream",
     "text": [
      "[0.24671921 0.1335814  0.11593211]\n"
     ]
    },
    {
     "data": {
      "image/png": "[encoded data removed]",
      "text/plain": [
       "<Figure size 576x576 with 1 Axes>"
      ]
     },
     "metadata": {},
     "output_type": "display_data"
    }
   ],
   "source": [
    "from sklearn.decomposition import PCA\n",
    "pca = PCA(copy=True, n_components=3, whiten=False, random_state=1)\n",
    "pca_res = pca.fit_transform(X)\n",
    "print(pca.explained_variance_ratio_)\n",
    "table = pd.DataFrame({'pca1':pca_res[:,0], 'pca2':pca_res[:,1], 'label':labels})\n",
    "fig, ax = plt.subplots(figsize=(8, 8))\n",
    "sns.set(style=\"whitegrid\")\n",
    "sns.scatterplot( x=\"pca1\", y=\"pca2\",data=table[table['label']=='C'], color='green',label='Control')\n",
    "sns.scatterplot( x=\"pca1\", y=\"pca2\",data=table[table['label']=='ASD'], color='red',label='Autism')\n",
    "sns.set_style('white')\n",
    "\n",
    "plt.show()"
   ]
  },
  {
   "cell_type": "code",
   "execution_count": 282,
   "id": "8a6bfb4e",
   "metadata": {},
   "outputs": [
    {
     "name": "stderr",
     "output_type": "stream",
     "text": [
      "/Users/guopeng/opt/anaconda3/envs/software/lib/python3.10/site-packages/sklearn/manifold/_t_sne.py:790: FutureWarning: The default learning rate in TSNE will change from 200.0 to 'auto' in 1.2.\n",
      "  warnings.warn(\n",
      "/Users/guopeng/opt/anaconda3/envs/software/lib/python3.10/site-packages/sklearn/manifold/_t_sne.py:982: FutureWarning: The PCA initialization in TSNE will change to have the standard deviation of PC1 equal to 1e-4 in 1.2. This will ensure better convergence.\n",
      "  warnings.warn(\n"
     ]
    },
    {
     "data": {
      "image/png": "[encoded data removed]",
      "text/plain": [
       "<Figure size 576x576 with 1 Axes>"
      ]
     },
     "metadata": {},
     "output_type": "display_data"
    }
   ],
   "source": [
    "from sklearn.manifold import TSNE\n",
    "tsne = TSNE(n_components=2, init='pca', random_state=0)\n",
    "tsne_res = tsne.fit_transform(X)\n",
    "table = pd.DataFrame({'tsne1':tsne_res[:,0], 'tsne2':tsne_res[:,1], 'label':labels})\n",
    "fig, ax = plt.subplots(figsize=(8, 8))\n",
    "sns.set(style=\"whitegrid\")\n",
    "sns.scatterplot( x=\"tsne1\", y=\"tsne2\",data=table[table['label']=='C'], color='green',label='Control')\n",
    "sns.scatterplot( x=\"tsne1\", y=\"tsne2\",data=table[table['label']=='ASD'], color='red',label='Autism')\n",
    "sns.set_style('white')\n",
    "\n",
    "plt.show()"
   ]
  },
  {
   "cell_type": "code",
   "execution_count": 283,
   "id": "50b22ecc",
   "metadata": {},
   "outputs": [],
   "source": [
    "ASD = [] \n",
    "for i in data_norm.index:\n",
    "    if 'ASD' in i:\n",
    "        ASD.append(1)\n",
    "    else:\n",
    "        ASD.append(0)\n",
    "df2 = data_norm\n",
    "df2['ASD'] = ASD"
   ]
  },
  {
   "cell_type": "code",
   "execution_count": 284,
   "id": "03f8e4b5",
   "metadata": {},
   "outputs": [],
   "source": [
    "from sklearn.model_selection import train_test_split    #划分数据集为训练集和测试集\n",
    "from sklearn.metrics import classification_report     #模型的预测报告\n",
    "from sklearn.metrics import confusion_matrix    #模型的混淆矩阵\n",
    "from sklearn.metrics import accuracy_score    #模型的分类正确率\n",
    "from sklearn.model_selection import cross_val_score    #交叉验证"
   ]
  },
  {
   "cell_type": "code",
   "execution_count": 285,
   "id": "034ffb14",
   "metadata": {},
   "outputs": [],
   "source": [
    "# 划分数据集\n",
    "features = df2.iloc[:,:-1]\n",
    "X = features.values\n",
    "y = df2['ASD'].values\n",
    "X_train,X_test,y_train,y_test = train_test_split(X,y,random_state=1)"
   ]
  },
  {
   "cell_type": "code",
   "execution_count": 286,
   "id": "fc2eab02",
   "metadata": {},
   "outputs": [
    {
     "name": "stdout",
     "output_type": "stream",
     "text": [
      "              precision    recall  f1-score   support\n",
      "\n",
      "           0       1.00      0.50      0.67         8\n",
      "           1       0.73      1.00      0.85        11\n",
      "\n",
      "    accuracy                           0.79        19\n",
      "   macro avg       0.87      0.75      0.76        19\n",
      "weighted avg       0.85      0.79      0.77        19\n",
      "\n",
      "[[ 4  4]\n",
      " [ 0 11]]\n",
      "The acc of randomforset is 0.78947\n"
     ]
    }
   ],
   "source": [
    "# 使用随机森林\n",
    "from sklearn.ensemble import RandomForestClassifier\n",
    "\n",
    "rf = RandomForestClassifier(n_estimators=100,max_depth=20,max_features=10,random_state=20).fit(X_train,y_train)\n",
    "y_pred = rf.predict(X_test)\n",
    "\n",
    "print(classification_report(y_test,y_pred))\n",
    "print(confusion_matrix(y_test,y_pred))\n",
    "print('The acc of randomforset is %.5f'%(accuracy_score(y_test,y_pred)))"
   ]
  },
  {
   "cell_type": "code",
   "execution_count": 287,
   "id": "f4125ef0",
   "metadata": {},
   "outputs": [
    {
     "name": "stdout",
     "output_type": "stream",
     "text": [
      "[0.8        0.8        0.73333333 0.86666667 0.71428571]\n",
      "0.7828571428571429\n"
     ]
    }
   ],
   "source": [
    "# 使用交叉验证\n",
    "scores = cross_val_score(rf, X, y,cv=5,scoring='accuracy')\n",
    "print(scores)\n",
    "print(scores.mean())"
   ]
  },
  {
   "cell_type": "code",
   "execution_count": 288,
   "id": "192de520",
   "metadata": {},
   "outputs": [
    {
     "name": "stdout",
     "output_type": "stream",
     "text": [
      "              precision    recall  f1-score   support\n",
      "\n",
      "           0       0.58      0.88      0.70         8\n",
      "           1       0.86      0.55      0.67        11\n",
      "\n",
      "    accuracy                           0.68        19\n",
      "   macro avg       0.72      0.71      0.68        19\n",
      "weighted avg       0.74      0.68      0.68        19\n",
      "\n",
      "[[7 1]\n",
      " [5 6]]\n",
      "The acc of logistic regression is 0.68421\n"
     ]
    }
   ],
   "source": [
    "# 使用逻辑回归\n",
    "from sklearn.linear_model import LogisticRegression\n",
    "\n",
    "lr = LogisticRegression(penalty='l1',C=.6,random_state=8,max_iter=500,solver='liblinear').fit(X_train,y_train)\n",
    "# penalty正则化参数str类型，c正则化强度愈小愈强，max_iter迭代次数，solver分类器liblinear（比较慢）分析小数据集\n",
    "y_pred = lr.predict(X_test)\n",
    "\n",
    "print(classification_report(y_test,y_pred))\n",
    "print(confusion_matrix(y_test,y_pred))\n",
    "print('The acc of logistic regression is %.5f'%(accuracy_score(y_test,y_pred)))"
   ]
  },
  {
   "cell_type": "code",
   "execution_count": 289,
   "id": "d6979a76",
   "metadata": {},
   "outputs": [
    {
     "name": "stdout",
     "output_type": "stream",
     "text": [
      "[0.73333333 0.73333333 0.8        0.66666667 0.64285714]\n",
      "0.7152380952380952\n"
     ]
    }
   ],
   "source": [
    "# 使用交叉验证\n",
    "scores = cross_val_score(lr, X, y,cv=5,scoring='accuracy')\n",
    "print(scores)\n",
    "print(scores.mean())"
   ]
  },
  {
   "cell_type": "code",
   "execution_count": 290,
   "id": "3bd23d2e",
   "metadata": {},
   "outputs": [
    {
     "name": "stdout",
     "output_type": "stream",
     "text": [
      "              precision    recall  f1-score   support\n",
      "\n",
      "           0       0.46      0.75      0.57         8\n",
      "           1       0.67      0.36      0.47        11\n",
      "\n",
      "    accuracy                           0.53        19\n",
      "   macro avg       0.56      0.56      0.52        19\n",
      "weighted avg       0.58      0.53      0.51        19\n",
      "\n",
      "[[6 2]\n",
      " [7 4]]\n",
      "The acc of naive_bayes is 0.52632\n"
     ]
    }
   ],
   "source": [
    "# 使用朴素贝叶斯\n",
    "from sklearn.naive_bayes import MultinomialNB\n",
    "\n",
    "clf = MultinomialNB().fit(X_train,y_train)\n",
    "y_pred = clf.predict(X_test)\n",
    "\n",
    "print(classification_report(y_test,y_pred))\n",
    "print(confusion_matrix(y_test,y_pred))\n",
    "print('The acc of naive_bayes is %.5f'%(accuracy_score(y_test,y_pred)))"
   ]
  },
  {
   "cell_type": "code",
   "execution_count": 291,
   "id": "15ea1eaa",
   "metadata": {},
   "outputs": [
    {
     "name": "stdout",
     "output_type": "stream",
     "text": [
      "[0.66666667 0.4        0.46666667 0.53333333 0.64285714]\n",
      "0.5419047619047619\n"
     ]
    }
   ],
   "source": [
    "# 使用交叉验证\n",
    "scores = cross_val_score(clf, X, y,cv=5,scoring='accuracy')\n",
    "print(scores)\n",
    "print(scores.mean())"
   ]
  },
  {
   "cell_type": "code",
   "execution_count": 292,
   "id": "ee7e15b7",
   "metadata": {},
   "outputs": [
    {
     "data": {
      "image/png": "[encoded data removed]",
      "text/plain": [
       "<Figure size 432x720 with 1 Axes>"
      ]
     },
     "metadata": {},
     "output_type": "display_data"
    }
   ],
   "source": [
    "figure,ax = plt.subplots(figsize=(6,10))\n",
    "index = df2.drop(['ASD'],axis=1).columns     #生成行索引\n",
    "\n",
    "rf_importance = rf.feature_importances_\n",
    "rf_feature_importance = pd.DataFrame(rf_importance.T,index=index,columns=['score']).sort_values(by='score',ascending=False).head(10)\n",
    "rf_feature_importance = rf_feature_importance.sort_values(by='score', ascending = True)\n",
    "#df.T行与列对调，index行索引，columns列索引,sort_values用于排序，by行/列排序，ascending=True升序排序\n",
    "rf_feature_importance.plot(kind='barh',legend=False,ax=ax)\n",
    "ax.set_title('Feature importance')\n",
    "sns.set_style('white')\n",
    "plt.show()"
   ]
  },
  {
   "cell_type": "code",
   "execution_count": 293,
   "id": "0716a83c",
   "metadata": {},
   "outputs": [
    {
     "data": {
      "text/html": [
       "<div>\n",
       "<style scoped>\n",
       "    .dataframe tbody tr th:only-of-type {\n",
       "        vertical-align: middle;\n",
       "    }\n",
       "\n",
       "    .dataframe tbody tr th {\n",
       "        vertical-align: top;\n",
       "    }\n",
       "\n",
       "    .dataframe thead th {\n",
       "        text-align: right;\n",
       "    }\n",
       "</style>\n",
       "<table border=\"1\" class=\"dataframe\">\n",
       "  <thead>\n",
       "    <tr style=\"text-align: right;\">\n",
       "      <th></th>\n",
       "      <th>score</th>\n",
       "    </tr>\n",
       "    <tr>\n",
       "      <th>strain</th>\n",
       "      <th></th>\n",
       "    </tr>\n",
       "  </thead>\n",
       "  <tbody>\n",
       "    <tr>\n",
       "      <th>Methanofervidicoccus sp. A16</th>\n",
       "      <td>0.005577</td>\n",
       "    </tr>\n",
       "    <tr>\n",
       "      <th>Lutibacter profundi</th>\n",
       "      <td>0.005629</td>\n",
       "    </tr>\n",
       "    <tr>\n",
       "      <th>Castellaniella defragrans</th>\n",
       "      <td>0.005771</td>\n",
       "    </tr>\n",
       "    <tr>\n",
       "      <th>Aquimarina sp. AD10</th>\n",
       "      <td>0.005966</td>\n",
       "    </tr>\n",
       "    <tr>\n",
       "      <th>NA Z-7289</th>\n",
       "      <td>0.006622</td>\n",
       "    </tr>\n",
       "    <tr>\n",
       "      <th>Oryzomicrobium terrae</th>\n",
       "      <td>0.007100</td>\n",
       "    </tr>\n",
       "    <tr>\n",
       "      <th>Leptospira biflexa</th>\n",
       "      <td>0.007381</td>\n",
       "    </tr>\n",
       "    <tr>\n",
       "      <th>Lactobacillus acetotolerans E3039</th>\n",
       "      <td>0.007611</td>\n",
       "    </tr>\n",
       "    <tr>\n",
       "      <th>Niabella soli</th>\n",
       "      <td>0.007676</td>\n",
       "    </tr>\n",
       "    <tr>\n",
       "      <th>Sutterella megalosphaeroides</th>\n",
       "      <td>0.011957</td>\n",
       "    </tr>\n",
       "  </tbody>\n",
       "</table>\n",
       "</div>"
      ],
      "text/plain": [
       "                                       score\n",
       "strain                                      \n",
       " Methanofervidicoccus sp. A16       0.005577\n",
       " Lutibacter profundi                0.005629\n",
       " Castellaniella defragrans          0.005771\n",
       " Aquimarina sp. AD10                0.005966\n",
       " NA Z-7289                          0.006622\n",
       " Oryzomicrobium terrae              0.007100\n",
       " Leptospira biflexa                 0.007381\n",
       " Lactobacillus acetotolerans E3039  0.007611\n",
       " Niabella soli                      0.007676\n",
       " Sutterella megalosphaeroides       0.011957"
      ]
     },
     "execution_count": 293,
     "metadata": {},
     "output_type": "execute_result"
    }
   ],
   "source": [
    "rf_feature_importance"
   ]
  }
 ],
 "metadata": {
  "kernelspec": {
   "display_name": "Python 3 (ipykernel)",
   "language": "python",
   "name": "python3"
  },
  "language_info": {
   "codemirror_mode": {
    "name": "ipython",
    "version": 3
   },
   "file_extension": ".py",
   "mimetype": "text/x-python",
   "name": "python",
   "nbconvert_exporter": "python",
   "pygments_lexer": "ipython3",
   "version": "3.10.5"
  }
 },
 "nbformat": 4,
 "nbformat_minor": 5
}
